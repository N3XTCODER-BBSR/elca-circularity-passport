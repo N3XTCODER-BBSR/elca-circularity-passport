{
 "cells": [
  {
   "cell_type": "code",
   "execution_count": 4,
   "id": "99846b0f-c88c-41e0-b9a6-68b4f5d2ec3d",
   "metadata": {},
   "outputs": [],
   "source": [
    "import pandas as pd\n",
    "import time\n",
    "import os\n",
    "\n",
    "# Name of the original file\n",
    "input_filename = 'obd_tbaustoff_mapping.csv'\n",
    "\n",
    "# Read the CSV file\n",
    "df = pd.read_csv(input_filename)\n",
    "\n",
    "# Define the source column\n",
    "source_col = \"oekobaudatUuid____448d1096-2017-4901-a560-f652a83c737e____2020-II\"\n",
    "\n",
    "\n",
    "\n",
    "# Define a list of new column names to be added\n",
    "new_columns = [\n",
    "    \"oekobaudatUuid____cd2bda71-760b-4fcc-8a0b-3877c10000a8____2021-II\",\n",
    "    \"oekobaudatUuid____8201b671-10cd-4dc5-9750-0b856d998be4____2020-I\",\n",
    "    \"oekobaudatUuid____0454ab26-f45c-4e24-8260-9e2049738b75____2019-III\",\n",
    "    \"oekobaudatUuid____815d8970-02dc-4abc-b02e-78d41b4e4bb5____2019-II\",\n",
    "    \"oekobaudatUuid____30b63be3-b76b-4bd4-a876-330790c228a9____2019-I\",\n",
    "    \"oekobaudatUuid____cc02f499-6b0f-4556-bb4a-7abe48e55f71____2017\",\n",
    "]\n",
    "\n",
    "\n",
    "\n",
    "# Determine the index of 'tBaustoffName'\n",
    "insert_index = df.columns.get_loc(\"tBaustoffName\")\n",
    "\n",
    "# Insert each new column with the values from the source column\n",
    "for i, new_col in enumerate(new_columns):\n",
    "    df.insert(loc=insert_index + i, column=new_col, value=df[source_col])\n",
    "\n",
    "# Get the current Unix timestamp\n",
    "timestamp = int(time.time())\n",
    "\n",
    "# Create the new filename using the original filename and the timestamp\n",
    "base, ext = os.path.splitext(input_filename)\n",
    "output_filename = f\"{base}_{timestamp}{ext}\"\n",
    "\n",
    "# Write the updated DataFrame to the new CSV file\n",
    "df.to_csv(output_filename, index=False)\n"
   ]
  },
  {
   "cell_type": "code",
   "execution_count": null,
   "id": "b715deac-a464-448d-b88e-cc61836f610b",
   "metadata": {},
   "outputs": [],
   "source": []
  }
 ],
 "metadata": {
  "kernelspec": {
   "display_name": "Python 3 (ipykernel)",
   "language": "python",
   "name": "python3"
  },
  "language_info": {
   "codemirror_mode": {
    "name": "ipython",
    "version": 3
   },
   "file_extension": ".py",
   "mimetype": "text/x-python",
   "name": "python",
   "nbconvert_exporter": "python",
   "pygments_lexer": "ipython3",
   "version": "3.11.7"
  }
 },
 "nbformat": 4,
 "nbformat_minor": 5
}
